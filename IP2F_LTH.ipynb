{
 "cells": [
  {
   "cell_type": "markdown",
   "id": "42ee0442",
   "metadata": {},
   "source": [
    "# Langdon Hatton\n",
    "## ds-160\n",
    "## numpy assignment"
   ]
  },
  {
   "cell_type": "code",
   "execution_count": 1,
   "id": "d9bf1a51",
   "metadata": {},
   "outputs": [],
   "source": [
    "import numpy as np"
   ]
  },
  {
   "cell_type": "code",
   "execution_count": 6,
   "id": "32206d5c",
   "metadata": {},
   "outputs": [],
   "source": [
    "array1=np.arange(10,41,10)"
   ]
  },
  {
   "cell_type": "code",
   "execution_count": 16,
   "id": "9ca69777",
   "metadata": {},
   "outputs": [],
   "source": [
    "array1.resize(2,2)"
   ]
  },
  {
   "cell_type": "code",
   "execution_count": 17,
   "id": "ea9a846e",
   "metadata": {},
   "outputs": [
    {
     "data": {
      "text/plain": [
       "array([[ 100,  400],\n",
       "       [ 900, 1600]])"
      ]
     },
     "execution_count": 17,
     "metadata": {},
     "output_type": "execute_result"
    }
   ],
   "source": [
    "array1**2"
   ]
  },
  {
   "cell_type": "code",
   "execution_count": 18,
   "id": "0a16ee05",
   "metadata": {},
   "outputs": [
    {
     "data": {
      "text/plain": [
       "array([[110, 120],\n",
       "       [130, 140]])"
      ]
     },
     "execution_count": 18,
     "metadata": {},
     "output_type": "execute_result"
    }
   ],
   "source": [
    "array1+100"
   ]
  },
  {
   "cell_type": "code",
   "execution_count": 19,
   "id": "e345c246",
   "metadata": {},
   "outputs": [
    {
     "data": {
      "text/plain": [
       "array([[ 50, 100],\n",
       "       [150, 200]])"
      ]
     },
     "execution_count": 19,
     "metadata": {},
     "output_type": "execute_result"
    }
   ],
   "source": [
    "array1*5"
   ]
  },
  {
   "cell_type": "code",
   "execution_count": 20,
   "id": "55af0191",
   "metadata": {},
   "outputs": [
    {
     "data": {
      "text/plain": [
       "array([[3.16227766, 4.47213595],\n",
       "       [5.47722558, 6.32455532]])"
      ]
     },
     "execution_count": 20,
     "metadata": {},
     "output_type": "execute_result"
    }
   ],
   "source": [
    "np.sqrt(array1)"
   ]
  },
  {
   "cell_type": "code",
   "execution_count": 21,
   "id": "358b1350",
   "metadata": {},
   "outputs": [],
   "source": [
    "array2=np.arange(3,28, 3)"
   ]
  },
  {
   "cell_type": "code",
   "execution_count": 23,
   "id": "c0dced3f",
   "metadata": {},
   "outputs": [],
   "source": [
    "array2.resize(3,3)"
   ]
  },
  {
   "cell_type": "code",
   "execution_count": 24,
   "id": "aa8d06e0",
   "metadata": {},
   "outputs": [
    {
     "data": {
      "text/plain": [
       "array([[ 3,  6,  9],\n",
       "       [12, 15, 18],\n",
       "       [21, 24, 27]])"
      ]
     },
     "execution_count": 24,
     "metadata": {},
     "output_type": "execute_result"
    }
   ],
   "source": [
    "array2"
   ]
  },
  {
   "cell_type": "code",
   "execution_count": 40,
   "id": "81233b36",
   "metadata": {},
   "outputs": [],
   "source": [
    "array3=np.linspace(10,20,9)"
   ]
  },
  {
   "cell_type": "code",
   "execution_count": 41,
   "id": "c94fc720",
   "metadata": {},
   "outputs": [
    {
     "data": {
      "text/plain": [
       "array([10.  , 11.25, 12.5 , 13.75, 15.  , 16.25, 17.5 , 18.75, 20.  ])"
      ]
     },
     "execution_count": 41,
     "metadata": {},
     "output_type": "execute_result"
    }
   ],
   "source": [
    "array3"
   ]
  },
  {
   "cell_type": "code",
   "execution_count": 42,
   "id": "ddd37b6a",
   "metadata": {},
   "outputs": [],
   "source": [
    "array3.resize(3,3)"
   ]
  },
  {
   "cell_type": "code",
   "execution_count": 43,
   "id": "abcef1d0",
   "metadata": {},
   "outputs": [
    {
     "data": {
      "text/plain": [
       "array([[ 30. ,  67.5, 112.5],\n",
       "       [165. , 225. , 292.5],\n",
       "       [367.5, 450. , 540. ]])"
      ]
     },
     "execution_count": 43,
     "metadata": {},
     "output_type": "execute_result"
    }
   ],
   "source": [
    "array2*array3"
   ]
  },
  {
   "cell_type": "code",
   "execution_count": 53,
   "id": "755761ea",
   "metadata": {},
   "outputs": [],
   "source": [
    "pro1=np.load('process1.npy')"
   ]
  },
  {
   "cell_type": "code",
   "execution_count": 54,
   "id": "97c1ac42",
   "metadata": {},
   "outputs": [
    {
     "data": {
      "text/plain": [
       "array([[52, 12, 81,  0, 58]], dtype=int32)"
      ]
     },
     "execution_count": 54,
     "metadata": {},
     "output_type": "execute_result"
    }
   ],
   "source": [
    "pro1"
   ]
  },
  {
   "cell_type": "code",
   "execution_count": 55,
   "id": "1a6ba5d0",
   "metadata": {},
   "outputs": [],
   "source": [
    "pro2=np.load('process2.npy')"
   ]
  },
  {
   "cell_type": "code",
   "execution_count": 56,
   "id": "34e4e50d",
   "metadata": {},
   "outputs": [],
   "source": [
    "pro3=np.load('process3.npy')"
   ]
  },
  {
   "cell_type": "code",
   "execution_count": 57,
   "id": "7e2555ac",
   "metadata": {},
   "outputs": [],
   "source": [
    "pro4=np.load('process4.npy')"
   ]
  },
  {
   "cell_type": "code",
   "execution_count": 58,
   "id": "d517f5f2",
   "metadata": {},
   "outputs": [],
   "source": [
    "pro5=np.load('process5.npy')"
   ]
  },
  {
   "cell_type": "code",
   "execution_count": 61,
   "id": "e01c43d9",
   "metadata": {},
   "outputs": [],
   "source": [
    "process=np.vstack((pro1,pro2,pro3,pro4,pro5))"
   ]
  },
  {
   "cell_type": "code",
   "execution_count": 62,
   "id": "93b9e4e1",
   "metadata": {},
   "outputs": [
    {
     "data": {
      "text/plain": [
       "array([[52, 12, 81,  0, 58],\n",
       "       [96,  4, 61, 16, 43],\n",
       "       [38, 96, 45, 17, 58],\n",
       "       [97, 21, 22, 25,  6],\n",
       "       [77,  6, 19,  2, 74]], dtype=int32)"
      ]
     },
     "execution_count": 62,
     "metadata": {},
     "output_type": "execute_result"
    }
   ],
   "source": [
    "process"
   ]
  },
  {
   "cell_type": "code",
   "execution_count": 66,
   "id": "ddb1ee17",
   "metadata": {},
   "outputs": [],
   "source": [
    "col1=process[:,:1]"
   ]
  },
  {
   "cell_type": "code",
   "execution_count": 68,
   "id": "6478528a",
   "metadata": {},
   "outputs": [
    {
     "data": {
      "text/plain": [
       "72.0"
      ]
     },
     "execution_count": 68,
     "metadata": {},
     "output_type": "execute_result"
    }
   ],
   "source": [
    "col1.mean()"
   ]
  },
  {
   "cell_type": "code",
   "execution_count": 80,
   "id": "95b5c80e",
   "metadata": {},
   "outputs": [],
   "source": [
    "col2=process[:,1:2]"
   ]
  },
  {
   "cell_type": "code",
   "execution_count": 81,
   "id": "7ce7caa7",
   "metadata": {},
   "outputs": [
    {
     "data": {
      "text/plain": [
       "array([[12],\n",
       "       [ 4],\n",
       "       [96],\n",
       "       [21],\n",
       "       [ 6]], dtype=int32)"
      ]
     },
     "execution_count": 81,
     "metadata": {},
     "output_type": "execute_result"
    }
   ],
   "source": [
    "col2"
   ]
  },
  {
   "cell_type": "code",
   "execution_count": 82,
   "id": "bc79b5c3",
   "metadata": {},
   "outputs": [
    {
     "data": {
      "text/plain": [
       "27.8"
      ]
     },
     "execution_count": 82,
     "metadata": {},
     "output_type": "execute_result"
    }
   ],
   "source": [
    "col2.mean()"
   ]
  },
  {
   "cell_type": "code",
   "execution_count": 83,
   "id": "14a1f38e",
   "metadata": {},
   "outputs": [],
   "source": [
    "col3=process[:,2:3]"
   ]
  },
  {
   "cell_type": "code",
   "execution_count": 88,
   "id": "10844c11",
   "metadata": {},
   "outputs": [
    {
     "data": {
      "text/plain": [
       "array([[81],\n",
       "       [61],\n",
       "       [45],\n",
       "       [22],\n",
       "       [19]], dtype=int32)"
      ]
     },
     "execution_count": 88,
     "metadata": {},
     "output_type": "execute_result"
    }
   ],
   "source": [
    "col3"
   ]
  },
  {
   "cell_type": "code",
   "execution_count": 84,
   "id": "525e0d46",
   "metadata": {},
   "outputs": [
    {
     "data": {
      "text/plain": [
       "45.6"
      ]
     },
     "execution_count": 84,
     "metadata": {},
     "output_type": "execute_result"
    }
   ],
   "source": [
    "col3.mean()"
   ]
  },
  {
   "cell_type": "code",
   "execution_count": 85,
   "id": "14db5ea8",
   "metadata": {},
   "outputs": [],
   "source": [
    "col4=process[:,3:4]"
   ]
  },
  {
   "cell_type": "code",
   "execution_count": 86,
   "id": "3070f755",
   "metadata": {},
   "outputs": [
    {
     "data": {
      "text/plain": [
       "array([[ 0],\n",
       "       [16],\n",
       "       [17],\n",
       "       [25],\n",
       "       [ 2]], dtype=int32)"
      ]
     },
     "execution_count": 86,
     "metadata": {},
     "output_type": "execute_result"
    }
   ],
   "source": [
    "col4"
   ]
  },
  {
   "cell_type": "code",
   "execution_count": 87,
   "id": "ee6e3468",
   "metadata": {},
   "outputs": [
    {
     "data": {
      "text/plain": [
       "12.0"
      ]
     },
     "execution_count": 87,
     "metadata": {},
     "output_type": "execute_result"
    }
   ],
   "source": [
    "col4.mean()"
   ]
  },
  {
   "cell_type": "code",
   "execution_count": 89,
   "id": "4928cfed",
   "metadata": {},
   "outputs": [],
   "source": [
    "col5=process[:,4:5]"
   ]
  },
  {
   "cell_type": "code",
   "execution_count": 90,
   "id": "faf28cda",
   "metadata": {},
   "outputs": [
    {
     "data": {
      "text/plain": [
       "array([[58],\n",
       "       [43],\n",
       "       [58],\n",
       "       [ 6],\n",
       "       [74]], dtype=int32)"
      ]
     },
     "execution_count": 90,
     "metadata": {},
     "output_type": "execute_result"
    }
   ],
   "source": [
    "col5"
   ]
  },
  {
   "cell_type": "code",
   "execution_count": 91,
   "id": "e15728f9",
   "metadata": {},
   "outputs": [
    {
     "data": {
      "text/plain": [
       "47.8"
      ]
     },
     "execution_count": 91,
     "metadata": {},
     "output_type": "execute_result"
    }
   ],
   "source": [
    "col5.mean()"
   ]
  },
  {
   "cell_type": "code",
   "execution_count": null,
   "id": "0d204ec8",
   "metadata": {},
   "outputs": [],
   "source": []
  },
  {
   "cell_type": "code",
   "execution_count": null,
   "id": "d897de73",
   "metadata": {},
   "outputs": [],
   "source": []
  },
  {
   "cell_type": "code",
   "execution_count": null,
   "id": "999bf1f3",
   "metadata": {},
   "outputs": [],
   "source": []
  }
 ],
 "metadata": {
  "kernelspec": {
   "display_name": "Python 3 (ipykernel)",
   "language": "python",
   "name": "python3"
  },
  "language_info": {
   "codemirror_mode": {
    "name": "ipython",
    "version": 3
   },
   "file_extension": ".py",
   "mimetype": "text/x-python",
   "name": "python",
   "nbconvert_exporter": "python",
   "pygments_lexer": "ipython3",
   "version": "3.9.12"
  }
 },
 "nbformat": 4,
 "nbformat_minor": 5
}
